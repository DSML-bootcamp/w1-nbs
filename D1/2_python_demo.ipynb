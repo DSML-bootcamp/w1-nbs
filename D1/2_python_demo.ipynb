{
 "cells": [
  {
   "cell_type": "markdown",
   "metadata": {
    "id": "YrWIW3jNa6g4"
   },
   "source": [
    "# Interfaces - consuming data"
   ]
  },
  {
   "cell_type": "markdown",
   "metadata": {
    "id": "y3Yg9uODa6g5"
   },
   "source": [
    "## Connecting to a Stock Market API"
   ]
  },
  {
   "cell_type": "code",
   "execution_count": null,
   "metadata": {
    "executionInfo": {
     "elapsed": 1,
     "status": "ok",
     "timestamp": 1713741673809,
     "user": {
      "displayName": "Joao Rocha Melo",
      "userId": "12391104381353008920"
     },
     "user_tz": -60
    },
    "id": "GfqdRud2a6g5"
   },
   "outputs": [],
   "source": [
    "# get stock market data for free\n",
    "import requests\n",
    "import pandas as pd"
   ]
  },
  {
   "cell_type": "markdown",
   "metadata": {
    "id": "zMXakkd99iHC"
   },
   "source": [
    "### hide API key\n"
   ]
  },
  {
   "cell_type": "code",
   "execution_count": null,
   "metadata": {
    "executionInfo": {
     "elapsed": 309,
     "status": "ok",
     "timestamp": 1713741671175,
     "user": {
      "displayName": "Joao Rocha Melo",
      "userId": "12391104381353008920"
     },
     "user_tz": -60
    },
    "id": "CARLep9O9gLI"
   },
   "outputs": [],
   "source": [
    "# connect to a stock market API\n",
    "# alpha vantage stock market API\n",
    "key = \"-----\" #key = get a key at https://www.alphavantage.co/"
   ]
  },
  {
   "cell_type": "markdown",
   "metadata": {
    "id": "36OxSdOS9lBX"
   },
   "source": [
    "### Get stocks data"
   ]
  },
  {
   "cell_type": "code",
   "execution_count": null,
   "metadata": {
    "colab": {
     "base_uri": "https://localhost:8080/"
    },
    "executionInfo": {
     "elapsed": 1141,
     "status": "ok",
     "timestamp": 1713741711774,
     "user": {
      "displayName": "Joao Rocha Melo",
      "userId": "12391104381353008920"
     },
     "user_tz": -60
    },
    "id": "n2kOa_cda6g5",
    "outputId": "f94906bb-d6f6-4ebf-abb2-6ad1d797f9b8"
   },
   "outputs": [],
   "source": [
    "stocks = ['AAPL','TSLA','AMZN']\n",
    "\n",
    "for stock in stocks:\n",
    "    inputs = {\n",
    "      'function' : 'TIME_SERIES_DAILY',\n",
    "     'symbol' : stock,\n",
    "     'apikey' : key\n",
    "\n",
    "    }\n",
    "\n",
    "    response = requests.get(\"https://www.alphavantage.co/query\",inputs)\n",
    "\n",
    "    data = pd.DataFrame(response.json()['Time Series (Daily)']).T\n",
    "    print(\"\")\n",
    "    print(stock)\n",
    "    print(data.head())"
   ]
  },
  {
   "cell_type": "markdown",
   "metadata": {
    "id": "A0ysDjvoa6g6"
   },
   "source": [
    "## Web Scraping Wikipedia"
   ]
  },
  {
   "cell_type": "code",
   "execution_count": null,
   "metadata": {
    "executionInfo": {
     "elapsed": 1078,
     "status": "ok",
     "timestamp": 1713741724059,
     "user": {
      "displayName": "Joao Rocha Melo",
      "userId": "12391104381353008920"
     },
     "user_tz": -60
    },
    "id": "_gpEKLWOa6g6"
   },
   "outputs": [],
   "source": [
    "# and web scrape information from the internet :o\n",
    "# https://en.wikipedia.org/wiki/List_of_highest-grossing_films\n",
    "films = pd.read_html(\"https://en.wikipedia.org/wiki/List_of_highest-grossing_films\")"
   ]
  },
  {
   "cell_type": "code",
   "execution_count": null,
   "metadata": {
    "colab": {
     "base_uri": "https://localhost:8080/",
     "height": 1000
    },
    "executionInfo": {
     "elapsed": 278,
     "status": "ok",
     "timestamp": 1713741725947,
     "user": {
      "displayName": "Joao Rocha Melo",
      "userId": "12391104381353008920"
     },
     "user_tz": -60
    },
    "id": "BVozF9vca6g6",
    "outputId": "4d30de85-ed77-45be-f721-b67ad6719c97"
   },
   "outputs": [],
   "source": [
    "films[0]"
   ]
  },
  {
   "cell_type": "markdown",
   "metadata": {
    "id": "0PJzpkk3a6g6"
   },
   "source": [
    "## Advanced Machine learning Applications"
   ]
  },
  {
   "cell_type": "markdown",
   "metadata": {
    "id": "gMEsW8Gza6g7"
   },
   "source": [
    "## Text to speech"
   ]
  },
  {
   "cell_type": "code",
   "execution_count": null,
   "metadata": {},
   "outputs": [],
   "source": [
    "from pathlib import Path\n",
    "from openai import OpenAI\n",
    "client = OpenAI()\n",
    "\n",
    "response = client.audio.speech.create(\n",
    "    model=\"tts-1\",\n",
    "    voice=\"alloy\",\n",
    "    input=\"In the beginning the universe was created. This has made a lot of people angry and is widely regarded as a bad move by the Ironhack's DSML April 2024 students\"\n",
    ")\n",
    "\n",
    "response.stream_to_file(\"output.mp3\")"
   ]
  },
  {
   "cell_type": "code",
   "execution_count": null,
   "metadata": {},
   "outputs": [],
   "source": [
    "from IPython.display import Audio\n",
    "\n",
    "# Path to your MP3 file\n",
    "file_path = 'output.mp3'\n",
    "\n",
    "# Display the audio player widget\n",
    "Audio(file_path)"
   ]
  },
  {
   "cell_type": "markdown",
   "metadata": {
    "id": "OJsTCbjza6g8"
   },
   "source": [
    "## Speech to text"
   ]
  },
  {
   "cell_type": "code",
   "execution_count": null,
   "metadata": {
    "id": "93_QLSj9a6g8",
    "outputId": "f70cfb89-b02c-435a-f316-a8017c6d6b26"
   },
   "outputs": [],
   "source": [
    "# speech to text\n",
    "# on Mac I had to: brew install portaudio\n",
    "#!pip install PyAudio\n",
    "#!pip install SpeechRecognition"
   ]
  },
  {
   "cell_type": "code",
   "execution_count": 2,
   "metadata": {
    "id": "jmqAH69Aa6g8",
    "outputId": "58368e70-c893-4903-eaf9-4ec2e34a9d00"
   },
   "outputs": [
    {
     "name": "stdout",
     "output_type": "stream",
     "text": [
      "Talk\n",
      "Time over, thanks\n",
      "Text: hello students of iron hacks dsml cohort of 2024\n"
     ]
    }
   ],
   "source": [
    "#import library\n",
    "import speech_recognition as sr\n",
    "\n",
    "# Initialize recognizer class (for recognizing the speech)\n",
    "\n",
    "r = sr.Recognizer()\n",
    "\n",
    "# Reading Microphone as source\n",
    "# listening the speech and store in audio_text variable\n",
    "\n",
    "with sr.Microphone() as source:\n",
    "    print(\"Talk\")\n",
    "    audio_text = r.listen(source)\n",
    "    print(\"Time over, thanks\")\n",
    "# recoginize_() method will throw a request error if the API is unreachable, hence using exception handling\n",
    "\n",
    "    try:\n",
    "        # using google speech recognition\n",
    "        print(\"Text: \"+r.recognize_google(audio_text))\n",
    "    except:\n",
    "         print(\"Sorry, I did not get that\")"
   ]
  }
 ],
 "metadata": {
  "colab": {
   "provenance": []
  },
  "kernelspec": {
   "display_name": "venv_ironhack",
   "language": "python",
   "name": "python3"
  },
  "language_info": {
   "codemirror_mode": {
    "name": "ipython",
    "version": 3
   },
   "file_extension": ".py",
   "mimetype": "text/x-python",
   "name": "python",
   "nbconvert_exporter": "python",
   "pygments_lexer": "ipython3",
   "version": "3.11.6"
  },
  "toc": {
   "base_numbering": 1,
   "nav_menu": {},
   "number_sections": true,
   "sideBar": true,
   "skip_h1_title": false,
   "title_cell": "Table of Contents",
   "title_sidebar": "Contents",
   "toc_cell": false,
   "toc_position": {},
   "toc_section_display": true,
   "toc_window_display": false
  }
 },
 "nbformat": 4,
 "nbformat_minor": 4
}
